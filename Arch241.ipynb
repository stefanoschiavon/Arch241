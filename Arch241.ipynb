{
  "nbformat": 4,
  "nbformat_minor": 0,
  "metadata": {
    "colab": {
      "provenance": [],
      "authorship_tag": "ABX9TyPj+AuBow7pQoKECMqY7csq",
      "include_colab_link": true
    },
    "kernelspec": {
      "name": "ir",
      "display_name": "R"
    },
    "language_info": {
      "name": "R"
    }
  },
  "cells": [
    {
      "cell_type": "markdown",
      "metadata": {
        "id": "view-in-github",
        "colab_type": "text"
      },
      "source": [
        "<a href=\"https://colab.research.google.com/github/stefanoschiavon/Arch241/blob/main/Arch241.ipynb\" target=\"_parent\"><img src=\"https://colab.research.google.com/assets/colab-badge.svg\" alt=\"Open In Colab\"/></a>"
      ]
    },
    {
      "cell_type": "markdown",
      "source": [
        "# Introduction\n",
        "\n",
        "---\n",
        "\n"
      ],
      "metadata": {
        "id": "_B6h_12WRHj7"
      }
    },
    {
      "cell_type": "markdown",
      "source": [
        "You can change the language from python to R, go to **runtime** -> **change runtime type**"
      ],
      "metadata": {
        "id": "1lrN3VJQaqFP"
      }
    },
    {
      "cell_type": "code",
      "source": [
        "x<-9 # Assign the value 9 to the variable 'x'"
      ],
      "metadata": {
        "id": "LGHulcjJZiuJ"
      },
      "execution_count": null,
      "outputs": []
    },
    {
      "cell_type": "code",
      "source": [
        "y<-sqrt(x) # Compute the square root of 'x' and assign it to the variable 'y'\n",
        "print(y) # Print the value of 'y', which is the square root of 9\n"
      ],
      "metadata": {
        "id": "n4VjeaYqZkOf"
      },
      "execution_count": null,
      "outputs": []
    },
    {
      "cell_type": "code",
      "source": [
        "x <- c(3, -2, 4, 2, 0, 6) # Creating a vector 'x' with numeric elements"
      ],
      "metadata": {
        "id": "tGnd60TWRKq2"
      },
      "execution_count": null,
      "outputs": []
    },
    {
      "cell_type": "code",
      "source": [
        "x"
      ],
      "metadata": {
        "id": "ZE7ctR1kRP2p"
      },
      "execution_count": null,
      "outputs": []
    },
    {
      "cell_type": "code",
      "source": [
        "x[3] # Display the 3rd element of the vector 'x'\n"
      ],
      "metadata": {
        "id": "64cbg7PFRUj9"
      },
      "execution_count": null,
      "outputs": []
    },
    {
      "cell_type": "code",
      "source": [
        "x[1:3] # Display the first three elements of the vector 'x'"
      ],
      "metadata": {
        "id": "-6xutgR5RXgK"
      },
      "execution_count": null,
      "outputs": []
    },
    {
      "cell_type": "code",
      "source": [
        "mean(x) # Calculate the mean of the elements in 'x'\n"
      ],
      "metadata": {
        "id": "Bm90bLXqb8CY"
      },
      "execution_count": null,
      "outputs": []
    },
    {
      "cell_type": "code",
      "source": [
        "sum(x) # Calculate the sum of the elements in 'x'\n",
        "max(x) # Find the maximum value in the vector 'x'"
      ],
      "metadata": {
        "id": "7TJSLgbbcD0z"
      },
      "execution_count": null,
      "outputs": []
    },
    {
      "cell_type": "code",
      "source": [
        "z <- x > 2 # Logical comparison: Check which elements in 'x' are greater than 2\n",
        "z"
      ],
      "metadata": {
        "id": "DvCU_0nWcWx1"
      },
      "execution_count": null,
      "outputs": []
    },
    {
      "cell_type": "code",
      "source": [
        "v1 <- seq(0, 100, by = 0.5) # Create a sequence from 0 to 100 with a step of 0.5\n",
        "V1 <- 'Ciao' # Assign a string value to a new variable 'V1' (note that variable names are case-sensitive)\n",
        "v1\n",
        "V1"
      ],
      "metadata": {
        "id": "qoRAwe4hchVY"
      },
      "execution_count": null,
      "outputs": []
    },
    {
      "cell_type": "code",
      "source": [
        "sd(v1) # Calculate the standard deviation of the values in 'v1'\n",
        "v2 <- v1^2 # Square each element in the vector 'v1' and assign it to 'v2'\n"
      ],
      "metadata": {
        "id": "wnRLud5ccp7I"
      },
      "execution_count": null,
      "outputs": []
    },
    {
      "cell_type": "code",
      "source": [
        "v3 <- v1[v1 > 5]\n",
        "v3"
      ],
      "metadata": {
        "id": "579ab-gJcyC6"
      },
      "execution_count": null,
      "outputs": []
    },
    {
      "cell_type": "code",
      "source": [
        "plot(v1, v2, type = 'p')"
      ],
      "metadata": {
        "id": "yCgtBDeQczrZ"
      },
      "execution_count": null,
      "outputs": []
    },
    {
      "cell_type": "code",
      "source": [
        "help(plot)"
      ],
      "metadata": {
        "id": "H-mw-9Bdc7AI"
      },
      "execution_count": null,
      "outputs": []
    },
    {
      "cell_type": "code",
      "source": [
        "plot(v1, v2, type = 'l')\n"
      ],
      "metadata": {
        "id": "FigzrKFHc9Zs"
      },
      "execution_count": null,
      "outputs": []
    },
    {
      "cell_type": "code",
      "source": [
        "plot(v1, v2, type = 'b') # Plot 'v1' against 'v2' using both points and lines"
      ],
      "metadata": {
        "id": "4WSbRkfQdCBm"
      },
      "execution_count": null,
      "outputs": []
    },
    {
      "cell_type": "code",
      "source": [
        "plot(sin(seq(0, 8 * pi, length = 100)), type = 'l') # Provide a summary of basic statistics for the vector 'v1'\n"
      ],
      "metadata": {
        "id": "nDGZwGQIdGDr"
      },
      "execution_count": null,
      "outputs": []
    },
    {
      "cell_type": "code",
      "source": [
        "summary(v1) # Provide a summary of basic statistics for the vector 'v1'\n"
      ],
      "metadata": {
        "id": "4vHX-cQndLHY"
      },
      "execution_count": null,
      "outputs": []
    },
    {
      "cell_type": "code",
      "source": [
        "plot(v1, v2, type = 'l', ylab = 'V2', xlab = 'V1', main = 'Arch 241', sub = 'First plot')\n",
        "# Create a labeled line plot of 'v1' against 'v2'"
      ],
      "metadata": {
        "id": "nI8IYeVxdPf0"
      },
      "execution_count": null,
      "outputs": []
    },
    {
      "cell_type": "code",
      "source": [
        "cor(v1, v2) # Calculate the correlation between 'v1' and 'v2'\n",
        "\n"
      ],
      "metadata": {
        "id": "o73w_BOGdT1M"
      },
      "execution_count": null,
      "outputs": []
    },
    {
      "cell_type": "code",
      "source": [
        "LinearModel <- lm(v2 ~ v1) # Create a linear model with 'v2' as the dependent variable and 'v1' as the independent variable\n",
        "summary(LinearModel) # Display the summary of the linear model"
      ],
      "metadata": {
        "id": "4GvxJBtxdYFU"
      },
      "execution_count": null,
      "outputs": []
    }
  ]
}