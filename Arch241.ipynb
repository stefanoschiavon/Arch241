{
  "nbformat": 4,
  "nbformat_minor": 0,
  "metadata": {
    "colab": {
      "provenance": [],
      "authorship_tag": "ABX9TyPDWaclz7tgKA4Yxf7jIfWw",
      "include_colab_link": true
    },
    "kernelspec": {
      "name": "ir",
      "display_name": "R"
    },
    "language_info": {
      "name": "R"
    }
  },
  "cells": [
    {
      "cell_type": "markdown",
      "metadata": {
        "id": "view-in-github",
        "colab_type": "text"
      },
      "source": [
        "<a href=\"https://colab.research.google.com/github/stefanoschiavon/Arch241/blob/main/Arch241.ipynb\" target=\"_parent\"><img src=\"https://colab.research.google.com/assets/colab-badge.svg\" alt=\"Open In Colab\"/></a>"
      ]
    },
    {
      "cell_type": "markdown",
      "source": [
        "# Introduction\n",
        "\n",
        "---\n",
        "\n"
      ],
      "metadata": {
        "id": "_B6h_12WRHj7"
      }
    },
    {
      "cell_type": "markdown",
      "source": [
        "You can change the language from python to R, go to **runtime** -> **change runtime type**"
      ],
      "metadata": {
        "id": "1lrN3VJQaqFP"
      }
    },
    {
      "cell_type": "code",
      "source": [],
      "metadata": {
        "id": "JKmZunaLapzj"
      },
      "execution_count": null,
      "outputs": []
    },
    {
      "cell_type": "code",
      "source": [
        "x<-9 # Assign the value 9 to the variable 'x'"
      ],
      "metadata": {
        "id": "LGHulcjJZiuJ"
      },
      "execution_count": 22,
      "outputs": []
    },
    {
      "cell_type": "code",
      "source": [
        "y<-sqrt(x) # Compute the square root of 'x' and assign it to the variable 'y'\n",
        "print(y) # Print the value of 'y', which is the square root of 9\n"
      ],
      "metadata": {
        "colab": {
          "base_uri": "https://localhost:8080/"
        },
        "id": "n4VjeaYqZkOf",
        "outputId": "35e4e633-d84a-4e3e-e2d4-fa6bffdc70a6"
      },
      "execution_count": 16,
      "outputs": [
        {
          "output_type": "stream",
          "name": "stdout",
          "text": [
            "[1] 3\n"
          ]
        }
      ]
    },
    {
      "cell_type": "code",
      "source": [
        "x <- c(3, -2, 4, 2, 0, 6) # Creating a vector 'x' with numeric elements"
      ],
      "metadata": {
        "id": "tGnd60TWRKq2"
      },
      "execution_count": 23,
      "outputs": []
    },
    {
      "cell_type": "code",
      "source": [
        "x"
      ],
      "metadata": {
        "colab": {
          "base_uri": "https://localhost:8080/",
          "height": 34
        },
        "id": "ZE7ctR1kRP2p",
        "outputId": "65cdf0df-b3e3-4c90-f112-bf4497cb394a"
      },
      "execution_count": 24,
      "outputs": [
        {
          "output_type": "display_data",
          "data": {
            "text/html": [
              "<style>\n",
              ".list-inline {list-style: none; margin:0; padding: 0}\n",
              ".list-inline>li {display: inline-block}\n",
              ".list-inline>li:not(:last-child)::after {content: \"\\00b7\"; padding: 0 .5ex}\n",
              "</style>\n",
              "<ol class=list-inline><li>3</li><li>-2</li><li>4</li><li>2</li><li>0</li><li>6</li></ol>\n"
            ],
            "text/markdown": "1. 3\n2. -2\n3. 4\n4. 2\n5. 0\n6. 6\n\n\n",
            "text/latex": "\\begin{enumerate*}\n\\item 3\n\\item -2\n\\item 4\n\\item 2\n\\item 0\n\\item 6\n\\end{enumerate*}\n",
            "text/plain": [
              "[1]  3 -2  4  2  0  6"
            ]
          },
          "metadata": {}
        }
      ]
    },
    {
      "cell_type": "code",
      "source": [
        "x[3] # Display the 3rd element of the vector 'x'\n"
      ],
      "metadata": {
        "colab": {
          "base_uri": "https://localhost:8080/",
          "height": 34
        },
        "id": "64cbg7PFRUj9",
        "outputId": "59007bc5-85bc-40fd-f1b4-1a687054477e"
      },
      "execution_count": 25,
      "outputs": [
        {
          "output_type": "display_data",
          "data": {
            "text/html": [
              "4"
            ],
            "text/markdown": "4",
            "text/latex": "4",
            "text/plain": [
              "[1] 4"
            ]
          },
          "metadata": {}
        }
      ]
    },
    {
      "cell_type": "code",
      "source": [
        "x[1:3] # Display the first three elements of the vector 'x'"
      ],
      "metadata": {
        "colab": {
          "base_uri": "https://localhost:8080/",
          "height": 34
        },
        "id": "-6xutgR5RXgK",
        "outputId": "e804e8fb-7419-4738-a699-4b33ae57a166"
      },
      "execution_count": 26,
      "outputs": [
        {
          "output_type": "display_data",
          "data": {
            "text/html": [
              "<style>\n",
              ".list-inline {list-style: none; margin:0; padding: 0}\n",
              ".list-inline>li {display: inline-block}\n",
              ".list-inline>li:not(:last-child)::after {content: \"\\00b7\"; padding: 0 .5ex}\n",
              "</style>\n",
              "<ol class=list-inline><li>3</li><li>-2</li><li>4</li></ol>\n"
            ],
            "text/markdown": "1. 3\n2. -2\n3. 4\n\n\n",
            "text/latex": "\\begin{enumerate*}\n\\item 3\n\\item -2\n\\item 4\n\\end{enumerate*}\n",
            "text/plain": [
              "[1]  3 -2  4"
            ]
          },
          "metadata": {}
        }
      ]
    },
    {
      "cell_type": "code",
      "source": [
        "mean(x) # Calculate the mean of the elements in 'x'\n"
      ],
      "metadata": {
        "colab": {
          "base_uri": "https://localhost:8080/",
          "height": 34
        },
        "id": "Bm90bLXqb8CY",
        "outputId": "be748200-4c46-4c88-cfc7-3d00a285196e"
      },
      "execution_count": 27,
      "outputs": [
        {
          "output_type": "display_data",
          "data": {
            "text/html": [
              "2.16666666666667"
            ],
            "text/markdown": "2.16666666666667",
            "text/latex": "2.16666666666667",
            "text/plain": [
              "[1] 2.166667"
            ]
          },
          "metadata": {}
        }
      ]
    },
    {
      "cell_type": "code",
      "source": [
        "sum(x) # Calculate the sum of the elements in 'x'\n",
        "max(x) # Find the maximum value in the vector 'x'"
      ],
      "metadata": {
        "colab": {
          "base_uri": "https://localhost:8080/",
          "height": 52
        },
        "id": "7TJSLgbbcD0z",
        "outputId": "59d50bdf-030d-4c82-80a0-ab13d28aa3c3"
      },
      "execution_count": 28,
      "outputs": [
        {
          "output_type": "display_data",
          "data": {
            "text/html": [
              "13"
            ],
            "text/markdown": "13",
            "text/latex": "13",
            "text/plain": [
              "[1] 13"
            ]
          },
          "metadata": {}
        },
        {
          "output_type": "display_data",
          "data": {
            "text/html": [
              "6"
            ],
            "text/markdown": "6",
            "text/latex": "6",
            "text/plain": [
              "[1] 6"
            ]
          },
          "metadata": {}
        }
      ]
    },
    {
      "cell_type": "code",
      "source": [
        "z <- x > 2 # Logical comparison: Check which elements in 'x' are greater than 2\n",
        "z"
      ],
      "metadata": {
        "colab": {
          "base_uri": "https://localhost:8080/",
          "height": 34
        },
        "id": "DvCU_0nWcWx1",
        "outputId": "e4cb86a0-fca5-4d32-ae9a-790288d31400"
      },
      "execution_count": 29,
      "outputs": [
        {
          "output_type": "display_data",
          "data": {
            "text/html": [
              "<style>\n",
              ".list-inline {list-style: none; margin:0; padding: 0}\n",
              ".list-inline>li {display: inline-block}\n",
              ".list-inline>li:not(:last-child)::after {content: \"\\00b7\"; padding: 0 .5ex}\n",
              "</style>\n",
              "<ol class=list-inline><li>TRUE</li><li>FALSE</li><li>TRUE</li><li>FALSE</li><li>FALSE</li><li>TRUE</li></ol>\n"
            ],
            "text/markdown": "1. TRUE\n2. FALSE\n3. TRUE\n4. FALSE\n5. FALSE\n6. TRUE\n\n\n",
            "text/latex": "\\begin{enumerate*}\n\\item TRUE\n\\item FALSE\n\\item TRUE\n\\item FALSE\n\\item FALSE\n\\item TRUE\n\\end{enumerate*}\n",
            "text/plain": [
              "[1]  TRUE FALSE  TRUE FALSE FALSE  TRUE"
            ]
          },
          "metadata": {}
        }
      ]
    },
    {
      "cell_type": "code",
      "source": [
        "v1 <- seq(0, 100, by = 0.5) # Create a sequence from 0 to 100 with a step of 0.5\n",
        "V1 <- 'Ciao' # Assign a string value to a new variable 'V1' (note that variable names are case-sensitive)\n",
        "v1\n",
        "V1"
      ],
      "metadata": {
        "colab": {
          "base_uri": "https://localhost:8080/",
          "height": 173
        },
        "id": "qoRAwe4hchVY",
        "outputId": "766f4125-92ac-4325-a105-9e536034ebf9"
      },
      "execution_count": 30,
      "outputs": [
        {
          "output_type": "display_data",
          "data": {
            "text/html": [
              "<style>\n",
              ".list-inline {list-style: none; margin:0; padding: 0}\n",
              ".list-inline>li {display: inline-block}\n",
              ".list-inline>li:not(:last-child)::after {content: \"\\00b7\"; padding: 0 .5ex}\n",
              "</style>\n",
              "<ol class=list-inline><li>0</li><li>0.5</li><li>1</li><li>1.5</li><li>2</li><li>2.5</li><li>3</li><li>3.5</li><li>4</li><li>4.5</li><li>5</li><li>5.5</li><li>6</li><li>6.5</li><li>7</li><li>7.5</li><li>8</li><li>8.5</li><li>9</li><li>9.5</li><li>10</li><li>10.5</li><li>11</li><li>11.5</li><li>12</li><li>12.5</li><li>13</li><li>13.5</li><li>14</li><li>14.5</li><li>15</li><li>15.5</li><li>16</li><li>16.5</li><li>17</li><li>17.5</li><li>18</li><li>18.5</li><li>19</li><li>19.5</li><li>20</li><li>20.5</li><li>21</li><li>21.5</li><li>22</li><li>22.5</li><li>23</li><li>23.5</li><li>24</li><li>24.5</li><li>25</li><li>25.5</li><li>26</li><li>26.5</li><li>27</li><li>27.5</li><li>28</li><li>28.5</li><li>29</li><li>29.5</li><li>30</li><li>30.5</li><li>31</li><li>31.5</li><li>32</li><li>32.5</li><li>33</li><li>33.5</li><li>34</li><li>34.5</li><li>35</li><li>35.5</li><li>36</li><li>36.5</li><li>37</li><li>37.5</li><li>38</li><li>38.5</li><li>39</li><li>39.5</li><li>40</li><li>40.5</li><li>41</li><li>41.5</li><li>42</li><li>42.5</li><li>43</li><li>43.5</li><li>44</li><li>44.5</li><li>45</li><li>45.5</li><li>46</li><li>46.5</li><li>47</li><li>47.5</li><li>48</li><li>48.5</li><li>49</li><li>49.5</li><li>50</li><li>50.5</li><li>51</li><li>51.5</li><li>52</li><li>52.5</li><li>53</li><li>53.5</li><li>54</li><li>54.5</li><li>55</li><li>55.5</li><li>56</li><li>56.5</li><li>57</li><li>57.5</li><li>58</li><li>58.5</li><li>59</li><li>59.5</li><li>60</li><li>60.5</li><li>61</li><li>61.5</li><li>62</li><li>62.5</li><li>63</li><li>63.5</li><li>64</li><li>64.5</li><li>65</li><li>65.5</li><li>66</li><li>66.5</li><li>67</li><li>67.5</li><li>68</li><li>68.5</li><li>69</li><li>69.5</li><li>70</li><li>70.5</li><li>71</li><li>71.5</li><li>72</li><li>72.5</li><li>73</li><li>73.5</li><li>74</li><li>74.5</li><li>75</li><li>75.5</li><li>76</li><li>76.5</li><li>77</li><li>77.5</li><li>78</li><li>78.5</li><li>79</li><li>79.5</li><li>80</li><li>80.5</li><li>81</li><li>81.5</li><li>82</li><li>82.5</li><li>83</li><li>83.5</li><li>84</li><li>84.5</li><li>85</li><li>85.5</li><li>86</li><li>86.5</li><li>87</li><li>87.5</li><li>88</li><li>88.5</li><li>89</li><li>89.5</li><li>90</li><li>90.5</li><li>91</li><li>91.5</li><li>92</li><li>92.5</li><li>93</li><li>93.5</li><li>94</li><li>94.5</li><li>95</li><li>95.5</li><li>96</li><li>96.5</li><li>97</li><li>97.5</li><li>98</li><li>98.5</li><li>99</li><li>99.5</li><li>100</li></ol>\n"
            ],
            "text/markdown": "1. 0\n2. 0.5\n3. 1\n4. 1.5\n5. 2\n6. 2.5\n7. 3\n8. 3.5\n9. 4\n10. 4.5\n11. 5\n12. 5.5\n13. 6\n14. 6.5\n15. 7\n16. 7.5\n17. 8\n18. 8.5\n19. 9\n20. 9.5\n21. 10\n22. 10.5\n23. 11\n24. 11.5\n25. 12\n26. 12.5\n27. 13\n28. 13.5\n29. 14\n30. 14.5\n31. 15\n32. 15.5\n33. 16\n34. 16.5\n35. 17\n36. 17.5\n37. 18\n38. 18.5\n39. 19\n40. 19.5\n41. 20\n42. 20.5\n43. 21\n44. 21.5\n45. 22\n46. 22.5\n47. 23\n48. 23.5\n49. 24\n50. 24.5\n51. 25\n52. 25.5\n53. 26\n54. 26.5\n55. 27\n56. 27.5\n57. 28\n58. 28.5\n59. 29\n60. 29.5\n61. 30\n62. 30.5\n63. 31\n64. 31.5\n65. 32\n66. 32.5\n67. 33\n68. 33.5\n69. 34\n70. 34.5\n71. 35\n72. 35.5\n73. 36\n74. 36.5\n75. 37\n76. 37.5\n77. 38\n78. 38.5\n79. 39\n80. 39.5\n81. 40\n82. 40.5\n83. 41\n84. 41.5\n85. 42\n86. 42.5\n87. 43\n88. 43.5\n89. 44\n90. 44.5\n91. 45\n92. 45.5\n93. 46\n94. 46.5\n95. 47\n96. 47.5\n97. 48\n98. 48.5\n99. 49\n100. 49.5\n101. 50\n102. 50.5\n103. 51\n104. 51.5\n105. 52\n106. 52.5\n107. 53\n108. 53.5\n109. 54\n110. 54.5\n111. 55\n112. 55.5\n113. 56\n114. 56.5\n115. 57\n116. 57.5\n117. 58\n118. 58.5\n119. 59\n120. 59.5\n121. 60\n122. 60.5\n123. 61\n124. 61.5\n125. 62\n126. 62.5\n127. 63\n128. 63.5\n129. 64\n130. 64.5\n131. 65\n132. 65.5\n133. 66\n134. 66.5\n135. 67\n136. 67.5\n137. 68\n138. 68.5\n139. 69\n140. 69.5\n141. 70\n142. 70.5\n143. 71\n144. 71.5\n145. 72\n146. 72.5\n147. 73\n148. 73.5\n149. 74\n150. 74.5\n151. 75\n152. 75.5\n153. 76\n154. 76.5\n155. 77\n156. 77.5\n157. 78\n158. 78.5\n159. 79\n160. 79.5\n161. 80\n162. 80.5\n163. 81\n164. 81.5\n165. 82\n166. 82.5\n167. 83\n168. 83.5\n169. 84\n170. 84.5\n171. 85\n172. 85.5\n173. 86\n174. 86.5\n175. 87\n176. 87.5\n177. 88\n178. 88.5\n179. 89\n180. 89.5\n181. 90\n182. 90.5\n183. 91\n184. 91.5\n185. 92\n186. 92.5\n187. 93\n188. 93.5\n189. 94\n190. 94.5\n191. 95\n192. 95.5\n193. 96\n194. 96.5\n195. 97\n196. 97.5\n197. 98\n198. 98.5\n199. 99\n200. 99.5\n201. 100\n\n\n",
            "text/latex": "\\begin{enumerate*}\n\\item 0\n\\item 0.5\n\\item 1\n\\item 1.5\n\\item 2\n\\item 2.5\n\\item 3\n\\item 3.5\n\\item 4\n\\item 4.5\n\\item 5\n\\item 5.5\n\\item 6\n\\item 6.5\n\\item 7\n\\item 7.5\n\\item 8\n\\item 8.5\n\\item 9\n\\item 9.5\n\\item 10\n\\item 10.5\n\\item 11\n\\item 11.5\n\\item 12\n\\item 12.5\n\\item 13\n\\item 13.5\n\\item 14\n\\item 14.5\n\\item 15\n\\item 15.5\n\\item 16\n\\item 16.5\n\\item 17\n\\item 17.5\n\\item 18\n\\item 18.5\n\\item 19\n\\item 19.5\n\\item 20\n\\item 20.5\n\\item 21\n\\item 21.5\n\\item 22\n\\item 22.5\n\\item 23\n\\item 23.5\n\\item 24\n\\item 24.5\n\\item 25\n\\item 25.5\n\\item 26\n\\item 26.5\n\\item 27\n\\item 27.5\n\\item 28\n\\item 28.5\n\\item 29\n\\item 29.5\n\\item 30\n\\item 30.5\n\\item 31\n\\item 31.5\n\\item 32\n\\item 32.5\n\\item 33\n\\item 33.5\n\\item 34\n\\item 34.5\n\\item 35\n\\item 35.5\n\\item 36\n\\item 36.5\n\\item 37\n\\item 37.5\n\\item 38\n\\item 38.5\n\\item 39\n\\item 39.5\n\\item 40\n\\item 40.5\n\\item 41\n\\item 41.5\n\\item 42\n\\item 42.5\n\\item 43\n\\item 43.5\n\\item 44\n\\item 44.5\n\\item 45\n\\item 45.5\n\\item 46\n\\item 46.5\n\\item 47\n\\item 47.5\n\\item 48\n\\item 48.5\n\\item 49\n\\item 49.5\n\\item 50\n\\item 50.5\n\\item 51\n\\item 51.5\n\\item 52\n\\item 52.5\n\\item 53\n\\item 53.5\n\\item 54\n\\item 54.5\n\\item 55\n\\item 55.5\n\\item 56\n\\item 56.5\n\\item 57\n\\item 57.5\n\\item 58\n\\item 58.5\n\\item 59\n\\item 59.5\n\\item 60\n\\item 60.5\n\\item 61\n\\item 61.5\n\\item 62\n\\item 62.5\n\\item 63\n\\item 63.5\n\\item 64\n\\item 64.5\n\\item 65\n\\item 65.5\n\\item 66\n\\item 66.5\n\\item 67\n\\item 67.5\n\\item 68\n\\item 68.5\n\\item 69\n\\item 69.5\n\\item 70\n\\item 70.5\n\\item 71\n\\item 71.5\n\\item 72\n\\item 72.5\n\\item 73\n\\item 73.5\n\\item 74\n\\item 74.5\n\\item 75\n\\item 75.5\n\\item 76\n\\item 76.5\n\\item 77\n\\item 77.5\n\\item 78\n\\item 78.5\n\\item 79\n\\item 79.5\n\\item 80\n\\item 80.5\n\\item 81\n\\item 81.5\n\\item 82\n\\item 82.5\n\\item 83\n\\item 83.5\n\\item 84\n\\item 84.5\n\\item 85\n\\item 85.5\n\\item 86\n\\item 86.5\n\\item 87\n\\item 87.5\n\\item 88\n\\item 88.5\n\\item 89\n\\item 89.5\n\\item 90\n\\item 90.5\n\\item 91\n\\item 91.5\n\\item 92\n\\item 92.5\n\\item 93\n\\item 93.5\n\\item 94\n\\item 94.5\n\\item 95\n\\item 95.5\n\\item 96\n\\item 96.5\n\\item 97\n\\item 97.5\n\\item 98\n\\item 98.5\n\\item 99\n\\item 99.5\n\\item 100\n\\end{enumerate*}\n",
            "text/plain": [
              "  [1]   0.0   0.5   1.0   1.5   2.0   2.5   3.0   3.5   4.0   4.5   5.0   5.5\n",
              " [13]   6.0   6.5   7.0   7.5   8.0   8.5   9.0   9.5  10.0  10.5  11.0  11.5\n",
              " [25]  12.0  12.5  13.0  13.5  14.0  14.5  15.0  15.5  16.0  16.5  17.0  17.5\n",
              " [37]  18.0  18.5  19.0  19.5  20.0  20.5  21.0  21.5  22.0  22.5  23.0  23.5\n",
              " [49]  24.0  24.5  25.0  25.5  26.0  26.5  27.0  27.5  28.0  28.5  29.0  29.5\n",
              " [61]  30.0  30.5  31.0  31.5  32.0  32.5  33.0  33.5  34.0  34.5  35.0  35.5\n",
              " [73]  36.0  36.5  37.0  37.5  38.0  38.5  39.0  39.5  40.0  40.5  41.0  41.5\n",
              " [85]  42.0  42.5  43.0  43.5  44.0  44.5  45.0  45.5  46.0  46.5  47.0  47.5\n",
              " [97]  48.0  48.5  49.0  49.5  50.0  50.5  51.0  51.5  52.0  52.5  53.0  53.5\n",
              "[109]  54.0  54.5  55.0  55.5  56.0  56.5  57.0  57.5  58.0  58.5  59.0  59.5\n",
              "[121]  60.0  60.5  61.0  61.5  62.0  62.5  63.0  63.5  64.0  64.5  65.0  65.5\n",
              "[133]  66.0  66.5  67.0  67.5  68.0  68.5  69.0  69.5  70.0  70.5  71.0  71.5\n",
              "[145]  72.0  72.5  73.0  73.5  74.0  74.5  75.0  75.5  76.0  76.5  77.0  77.5\n",
              "[157]  78.0  78.5  79.0  79.5  80.0  80.5  81.0  81.5  82.0  82.5  83.0  83.5\n",
              "[169]  84.0  84.5  85.0  85.5  86.0  86.5  87.0  87.5  88.0  88.5  89.0  89.5\n",
              "[181]  90.0  90.5  91.0  91.5  92.0  92.5  93.0  93.5  94.0  94.5  95.0  95.5\n",
              "[193]  96.0  96.5  97.0  97.5  98.0  98.5  99.0  99.5 100.0"
            ]
          },
          "metadata": {}
        },
        {
          "output_type": "display_data",
          "data": {
            "text/html": [
              "'Ciao'"
            ],
            "text/markdown": "'Ciao'",
            "text/latex": "'Ciao'",
            "text/plain": [
              "[1] \"Ciao\""
            ]
          },
          "metadata": {}
        }
      ]
    },
    {
      "cell_type": "code",
      "source": [
        "sd(v1) # Calculate the standard deviation of the values in 'v1'\n",
        "v2 <- v1^2 # Square each element in the vector 'v1' and assign it to 'v2'\n"
      ],
      "metadata": {
        "id": "wnRLud5ccp7I"
      },
      "execution_count": null,
      "outputs": []
    },
    {
      "cell_type": "code",
      "source": [
        "v3 <- v1[v1 > 5]\n",
        "v3"
      ],
      "metadata": {
        "colab": {
          "base_uri": "https://localhost:8080/",
          "height": 139
        },
        "id": "579ab-gJcyC6",
        "outputId": "45b20f15-0bb2-499e-ddf7-3b35957dd0ae"
      },
      "execution_count": 33,
      "outputs": [
        {
          "output_type": "display_data",
          "data": {
            "text/html": [
              "<style>\n",
              ".list-inline {list-style: none; margin:0; padding: 0}\n",
              ".list-inline>li {display: inline-block}\n",
              ".list-inline>li:not(:last-child)::after {content: \"\\00b7\"; padding: 0 .5ex}\n",
              "</style>\n",
              "<ol class=list-inline><li>5.5</li><li>6</li><li>6.5</li><li>7</li><li>7.5</li><li>8</li><li>8.5</li><li>9</li><li>9.5</li><li>10</li><li>10.5</li><li>11</li><li>11.5</li><li>12</li><li>12.5</li><li>13</li><li>13.5</li><li>14</li><li>14.5</li><li>15</li><li>15.5</li><li>16</li><li>16.5</li><li>17</li><li>17.5</li><li>18</li><li>18.5</li><li>19</li><li>19.5</li><li>20</li><li>20.5</li><li>21</li><li>21.5</li><li>22</li><li>22.5</li><li>23</li><li>23.5</li><li>24</li><li>24.5</li><li>25</li><li>25.5</li><li>26</li><li>26.5</li><li>27</li><li>27.5</li><li>28</li><li>28.5</li><li>29</li><li>29.5</li><li>30</li><li>30.5</li><li>31</li><li>31.5</li><li>32</li><li>32.5</li><li>33</li><li>33.5</li><li>34</li><li>34.5</li><li>35</li><li>35.5</li><li>36</li><li>36.5</li><li>37</li><li>37.5</li><li>38</li><li>38.5</li><li>39</li><li>39.5</li><li>40</li><li>40.5</li><li>41</li><li>41.5</li><li>42</li><li>42.5</li><li>43</li><li>43.5</li><li>44</li><li>44.5</li><li>45</li><li>45.5</li><li>46</li><li>46.5</li><li>47</li><li>47.5</li><li>48</li><li>48.5</li><li>49</li><li>49.5</li><li>50</li><li>50.5</li><li>51</li><li>51.5</li><li>52</li><li>52.5</li><li>53</li><li>53.5</li><li>54</li><li>54.5</li><li>55</li><li>55.5</li><li>56</li><li>56.5</li><li>57</li><li>57.5</li><li>58</li><li>58.5</li><li>59</li><li>59.5</li><li>60</li><li>60.5</li><li>61</li><li>61.5</li><li>62</li><li>62.5</li><li>63</li><li>63.5</li><li>64</li><li>64.5</li><li>65</li><li>65.5</li><li>66</li><li>66.5</li><li>67</li><li>67.5</li><li>68</li><li>68.5</li><li>69</li><li>69.5</li><li>70</li><li>70.5</li><li>71</li><li>71.5</li><li>72</li><li>72.5</li><li>73</li><li>73.5</li><li>74</li><li>74.5</li><li>75</li><li>75.5</li><li>76</li><li>76.5</li><li>77</li><li>77.5</li><li>78</li><li>78.5</li><li>79</li><li>79.5</li><li>80</li><li>80.5</li><li>81</li><li>81.5</li><li>82</li><li>82.5</li><li>83</li><li>83.5</li><li>84</li><li>84.5</li><li>85</li><li>85.5</li><li>86</li><li>86.5</li><li>87</li><li>87.5</li><li>88</li><li>88.5</li><li>89</li><li>89.5</li><li>90</li><li>90.5</li><li>91</li><li>91.5</li><li>92</li><li>92.5</li><li>93</li><li>93.5</li><li>94</li><li>94.5</li><li>95</li><li>95.5</li><li>96</li><li>96.5</li><li>97</li><li>97.5</li><li>98</li><li>98.5</li><li>99</li><li>99.5</li><li>100</li></ol>\n"
            ],
            "text/markdown": "1. 5.5\n2. 6\n3. 6.5\n4. 7\n5. 7.5\n6. 8\n7. 8.5\n8. 9\n9. 9.5\n10. 10\n11. 10.5\n12. 11\n13. 11.5\n14. 12\n15. 12.5\n16. 13\n17. 13.5\n18. 14\n19. 14.5\n20. 15\n21. 15.5\n22. 16\n23. 16.5\n24. 17\n25. 17.5\n26. 18\n27. 18.5\n28. 19\n29. 19.5\n30. 20\n31. 20.5\n32. 21\n33. 21.5\n34. 22\n35. 22.5\n36. 23\n37. 23.5\n38. 24\n39. 24.5\n40. 25\n41. 25.5\n42. 26\n43. 26.5\n44. 27\n45. 27.5\n46. 28\n47. 28.5\n48. 29\n49. 29.5\n50. 30\n51. 30.5\n52. 31\n53. 31.5\n54. 32\n55. 32.5\n56. 33\n57. 33.5\n58. 34\n59. 34.5\n60. 35\n61. 35.5\n62. 36\n63. 36.5\n64. 37\n65. 37.5\n66. 38\n67. 38.5\n68. 39\n69. 39.5\n70. 40\n71. 40.5\n72. 41\n73. 41.5\n74. 42\n75. 42.5\n76. 43\n77. 43.5\n78. 44\n79. 44.5\n80. 45\n81. 45.5\n82. 46\n83. 46.5\n84. 47\n85. 47.5\n86. 48\n87. 48.5\n88. 49\n89. 49.5\n90. 50\n91. 50.5\n92. 51\n93. 51.5\n94. 52\n95. 52.5\n96. 53\n97. 53.5\n98. 54\n99. 54.5\n100. 55\n101. 55.5\n102. 56\n103. 56.5\n104. 57\n105. 57.5\n106. 58\n107. 58.5\n108. 59\n109. 59.5\n110. 60\n111. 60.5\n112. 61\n113. 61.5\n114. 62\n115. 62.5\n116. 63\n117. 63.5\n118. 64\n119. 64.5\n120. 65\n121. 65.5\n122. 66\n123. 66.5\n124. 67\n125. 67.5\n126. 68\n127. 68.5\n128. 69\n129. 69.5\n130. 70\n131. 70.5\n132. 71\n133. 71.5\n134. 72\n135. 72.5\n136. 73\n137. 73.5\n138. 74\n139. 74.5\n140. 75\n141. 75.5\n142. 76\n143. 76.5\n144. 77\n145. 77.5\n146. 78\n147. 78.5\n148. 79\n149. 79.5\n150. 80\n151. 80.5\n152. 81\n153. 81.5\n154. 82\n155. 82.5\n156. 83\n157. 83.5\n158. 84\n159. 84.5\n160. 85\n161. 85.5\n162. 86\n163. 86.5\n164. 87\n165. 87.5\n166. 88\n167. 88.5\n168. 89\n169. 89.5\n170. 90\n171. 90.5\n172. 91\n173. 91.5\n174. 92\n175. 92.5\n176. 93\n177. 93.5\n178. 94\n179. 94.5\n180. 95\n181. 95.5\n182. 96\n183. 96.5\n184. 97\n185. 97.5\n186. 98\n187. 98.5\n188. 99\n189. 99.5\n190. 100\n\n\n",
            "text/latex": "\\begin{enumerate*}\n\\item 5.5\n\\item 6\n\\item 6.5\n\\item 7\n\\item 7.5\n\\item 8\n\\item 8.5\n\\item 9\n\\item 9.5\n\\item 10\n\\item 10.5\n\\item 11\n\\item 11.5\n\\item 12\n\\item 12.5\n\\item 13\n\\item 13.5\n\\item 14\n\\item 14.5\n\\item 15\n\\item 15.5\n\\item 16\n\\item 16.5\n\\item 17\n\\item 17.5\n\\item 18\n\\item 18.5\n\\item 19\n\\item 19.5\n\\item 20\n\\item 20.5\n\\item 21\n\\item 21.5\n\\item 22\n\\item 22.5\n\\item 23\n\\item 23.5\n\\item 24\n\\item 24.5\n\\item 25\n\\item 25.5\n\\item 26\n\\item 26.5\n\\item 27\n\\item 27.5\n\\item 28\n\\item 28.5\n\\item 29\n\\item 29.5\n\\item 30\n\\item 30.5\n\\item 31\n\\item 31.5\n\\item 32\n\\item 32.5\n\\item 33\n\\item 33.5\n\\item 34\n\\item 34.5\n\\item 35\n\\item 35.5\n\\item 36\n\\item 36.5\n\\item 37\n\\item 37.5\n\\item 38\n\\item 38.5\n\\item 39\n\\item 39.5\n\\item 40\n\\item 40.5\n\\item 41\n\\item 41.5\n\\item 42\n\\item 42.5\n\\item 43\n\\item 43.5\n\\item 44\n\\item 44.5\n\\item 45\n\\item 45.5\n\\item 46\n\\item 46.5\n\\item 47\n\\item 47.5\n\\item 48\n\\item 48.5\n\\item 49\n\\item 49.5\n\\item 50\n\\item 50.5\n\\item 51\n\\item 51.5\n\\item 52\n\\item 52.5\n\\item 53\n\\item 53.5\n\\item 54\n\\item 54.5\n\\item 55\n\\item 55.5\n\\item 56\n\\item 56.5\n\\item 57\n\\item 57.5\n\\item 58\n\\item 58.5\n\\item 59\n\\item 59.5\n\\item 60\n\\item 60.5\n\\item 61\n\\item 61.5\n\\item 62\n\\item 62.5\n\\item 63\n\\item 63.5\n\\item 64\n\\item 64.5\n\\item 65\n\\item 65.5\n\\item 66\n\\item 66.5\n\\item 67\n\\item 67.5\n\\item 68\n\\item 68.5\n\\item 69\n\\item 69.5\n\\item 70\n\\item 70.5\n\\item 71\n\\item 71.5\n\\item 72\n\\item 72.5\n\\item 73\n\\item 73.5\n\\item 74\n\\item 74.5\n\\item 75\n\\item 75.5\n\\item 76\n\\item 76.5\n\\item 77\n\\item 77.5\n\\item 78\n\\item 78.5\n\\item 79\n\\item 79.5\n\\item 80\n\\item 80.5\n\\item 81\n\\item 81.5\n\\item 82\n\\item 82.5\n\\item 83\n\\item 83.5\n\\item 84\n\\item 84.5\n\\item 85\n\\item 85.5\n\\item 86\n\\item 86.5\n\\item 87\n\\item 87.5\n\\item 88\n\\item 88.5\n\\item 89\n\\item 89.5\n\\item 90\n\\item 90.5\n\\item 91\n\\item 91.5\n\\item 92\n\\item 92.5\n\\item 93\n\\item 93.5\n\\item 94\n\\item 94.5\n\\item 95\n\\item 95.5\n\\item 96\n\\item 96.5\n\\item 97\n\\item 97.5\n\\item 98\n\\item 98.5\n\\item 99\n\\item 99.5\n\\item 100\n\\end{enumerate*}\n",
            "text/plain": [
              "  [1]   5.5   6.0   6.5   7.0   7.5   8.0   8.5   9.0   9.5  10.0  10.5  11.0\n",
              " [13]  11.5  12.0  12.5  13.0  13.5  14.0  14.5  15.0  15.5  16.0  16.5  17.0\n",
              " [25]  17.5  18.0  18.5  19.0  19.5  20.0  20.5  21.0  21.5  22.0  22.5  23.0\n",
              " [37]  23.5  24.0  24.5  25.0  25.5  26.0  26.5  27.0  27.5  28.0  28.5  29.0\n",
              " [49]  29.5  30.0  30.5  31.0  31.5  32.0  32.5  33.0  33.5  34.0  34.5  35.0\n",
              " [61]  35.5  36.0  36.5  37.0  37.5  38.0  38.5  39.0  39.5  40.0  40.5  41.0\n",
              " [73]  41.5  42.0  42.5  43.0  43.5  44.0  44.5  45.0  45.5  46.0  46.5  47.0\n",
              " [85]  47.5  48.0  48.5  49.0  49.5  50.0  50.5  51.0  51.5  52.0  52.5  53.0\n",
              " [97]  53.5  54.0  54.5  55.0  55.5  56.0  56.5  57.0  57.5  58.0  58.5  59.0\n",
              "[109]  59.5  60.0  60.5  61.0  61.5  62.0  62.5  63.0  63.5  64.0  64.5  65.0\n",
              "[121]  65.5  66.0  66.5  67.0  67.5  68.0  68.5  69.0  69.5  70.0  70.5  71.0\n",
              "[133]  71.5  72.0  72.5  73.0  73.5  74.0  74.5  75.0  75.5  76.0  76.5  77.0\n",
              "[145]  77.5  78.0  78.5  79.0  79.5  80.0  80.5  81.0  81.5  82.0  82.5  83.0\n",
              "[157]  83.5  84.0  84.5  85.0  85.5  86.0  86.5  87.0  87.5  88.0  88.5  89.0\n",
              "[169]  89.5  90.0  90.5  91.0  91.5  92.0  92.5  93.0  93.5  94.0  94.5  95.0\n",
              "[181]  95.5  96.0  96.5  97.0  97.5  98.0  98.5  99.0  99.5 100.0"
            ]
          },
          "metadata": {}
        }
      ]
    },
    {
      "cell_type": "code",
      "source": [
        "plot(v1, v2, type = 'p')"
      ],
      "metadata": {
        "colab": {
          "base_uri": "https://localhost:8080/",
          "height": 437
        },
        "id": "yCgtBDeQczrZ",
        "outputId": "d342fb45-3abb-4a09-8ac2-817cf679ff91"
      },
      "execution_count": 34,
      "outputs": [
        {
          "output_type": "display_data",
          "data": {
            "text/plain": [
              "plot without title"
            ],
            "image/png": "[encoded data removed]"
          },
          "metadata": {
            "image/png": {
              "width": 420,
              "height": 420
            }
          }
        }
      ]
    },
    {
      "cell_type": "code",
      "source": [
        "help(plot)"
      ],
      "metadata": {
        "id": "H-mw-9Bdc7AI"
      },
      "execution_count": 35,
      "outputs": []
    },
    {
      "cell_type": "code",
      "source": [
        "plot(v1, v2, type = 'l')\n"
      ],
      "metadata": {
        "colab": {
          "base_uri": "https://localhost:8080/",
          "height": 437
        },
        "id": "FigzrKFHc9Zs",
        "outputId": "30def600-452c-43e2-a6e3-6f78d87fda7c"
      },
      "execution_count": 36,
      "outputs": [
        {
          "output_type": "display_data",
          "data": {
            "text/plain": [
              "plot without title"
            ],
            "image/png": "[encoded data removed]"
          },
          "metadata": {
            "image/png": {
              "width": 420,
              "height": 420
            }
          }
        }
      ]
    },
    {
      "cell_type": "code",
      "source": [
        "plot(v1, v2, type = 'b') # Plot 'v1' against 'v2' using both points and lines"
      ],
      "metadata": {
        "id": "4WSbRkfQdCBm"
      },
      "execution_count": null,
      "outputs": []
    },
    {
      "cell_type": "code",
      "source": [
        "plot(sin(seq(0, 8 * pi, length = 100)), type = 'l') # Provide a summary of basic statistics for the vector 'v1'\n"
      ],
      "metadata": {
        "colab": {
          "base_uri": "https://localhost:8080/",
          "height": 437
        },
        "id": "nDGZwGQIdGDr",
        "outputId": "120ecca6-7b19-4cb2-ad18-28e438a185dc"
      },
      "execution_count": 37,
      "outputs": [
        {
          "output_type": "display_data",
          "data": {
            "text/plain": [
              "plot without title"
            ],
            "image/png": "[encoded data removed]"
          },
          "metadata": {
            "image/png": {
              "width": 420,
              "height": 420
            }
          }
        }
      ]
    },
    {
      "cell_type": "code",
      "source": [
        "summary(v1) # Provide a summary of basic statistics for the vector 'v1'\n"
      ],
      "metadata": {
        "id": "4vHX-cQndLHY"
      },
      "execution_count": null,
      "outputs": []
    },
    {
      "cell_type": "code",
      "source": [
        "plot(v1, v2, type = 'l', ylab = 'V2', xlab = 'V1', main = 'Arch 241', sub = 'First plot')\n",
        "# Create a labeled line plot of 'v1' against 'v2'"
      ],
      "metadata": {
        "colab": {
          "base_uri": "https://localhost:8080/",
          "height": 437
        },
        "id": "nI8IYeVxdPf0",
        "outputId": "ee930e8d-9590-45de-9ad9-7a9aaa906b4f"
      },
      "execution_count": 38,
      "outputs": [
        {
          "output_type": "display_data",
          "data": {
            "text/plain": [
              "Plot with title “Arch 241”"
            ],
            "image/png": "[encoded data removed]"
          },
          "metadata": {
            "image/png": {
              "width": 420,
              "height": 420
            }
          }
        }
      ]
    },
    {
      "cell_type": "code",
      "source": [
        "cor(v1, v2) # Calculate the correlation between 'v1' and 'v2'\n",
        "\n"
      ],
      "metadata": {
        "id": "o73w_BOGdT1M"
      },
      "execution_count": null,
      "outputs": []
    },
    {
      "cell_type": "code",
      "source": [
        "LinearModel <- lm(v2 ~ v1) # Create a linear model with 'v2' as the dependent variable and 'v1' as the independent variable\n",
        "summary(LinearModel) # Display the summary of the linear model"
      ],
      "metadata": {
        "colab": {
          "base_uri": "https://localhost:8080/",
          "height": 338
        },
        "id": "4GvxJBtxdYFU",
        "outputId": "31921a62-9a09-4079-8edb-f1efdd8c1e59"
      },
      "execution_count": 39,
      "outputs": [
        {
          "output_type": "display_data",
          "data": {
            "text/plain": [
              "\n",
              "Call:\n",
              "lm(formula = v2 ~ v1)\n",
              "\n",
              "Residuals:\n",
              "   Min     1Q Median     3Q    Max \n",
              "-841.7 -685.4 -216.7  564.6 1658.3 \n",
              "\n",
              "Coefficients:\n",
              "             Estimate Std. Error t value Pr(>|t|)    \n",
              "(Intercept) -1658.333    106.330  -15.60   <2e-16 ***\n",
              "v1            100.000      1.839   54.37   <2e-16 ***\n",
              "---\n",
              "Signif. codes:  0 ‘***’ 0.001 ‘**’ 0.01 ‘*’ 0.05 ‘.’ 0.1 ‘ ’ 1\n",
              "\n",
              "Residual standard error: 756.6 on 199 degrees of freedom\n",
              "Multiple R-squared:  0.9369,\tAdjusted R-squared:  0.9366 \n",
              "F-statistic:  2956 on 1 and 199 DF,  p-value: < 2.2e-16\n"
            ]
          },
          "metadata": {}
        }
      ]
    }
  ]
}